{
 "cells": [
  {
   "cell_type": "markdown",
   "metadata": {},
   "source": [
    "# IMPORTING THE DATASET"
   ]
  },
  {
   "cell_type": "code",
   "execution_count": 5,
   "metadata": {},
   "outputs": [],
   "source": [
    "#All import statements\n",
    "import random\n",
    "import pandas as pd\n",
    "import numpy as np\n",
    "from ast import literal_eval\n",
    "from sklearn.feature_extraction.text import CountVectorizer\n",
    "from sklearn.metrics.pairwise import cosine_similarity"
   ]
  },
  {
   "cell_type": "code",
   "execution_count": 6,
   "metadata": {},
   "outputs": [],
   "source": [
    "#Importing the downloaded dataset\n",
    "credits=pd.read_csv(\"credits.csv\")\n",
    "movies=pd.read_csv(\"movies.csv\")"
   ]
  },
  {
   "cell_type": "code",
   "execution_count": 22,
   "metadata": {},
   "outputs": [],
   "source": [
    "#Merging the dataset with the required columns\n",
    "credits.columns=[\"id\",\"title\",\"cast\",\"crew\"]\n",
    "movies=movies.merge(credits,on=\"id\")"
   ]
  },
  {
   "cell_type": "markdown",
   "metadata": {},
   "source": [
    "# CAST , DIRECTOR , KEYWORDS & GENRES WILL BE OUR FEATURES OF THE MODEL"
   ]
  },
  {
   "cell_type": "code",
   "execution_count": 8,
   "metadata": {},
   "outputs": [],
   "source": [
    "features=[\"cast\",\"crew\",\"keywords\",\"genres\"]\n",
    "#converting the list of strings to dictionary since it is more safe\n",
    "for x in features:\n",
    "    movies[x]=movies[x].apply(literal_eval)"
   ]
  },
  {
   "cell_type": "code",
   "execution_count": 9,
   "metadata": {},
   "outputs": [],
   "source": [
    "#Function to find director name\n",
    "def director(x):\n",
    "    for i in x:\n",
    "        if (i[\"job\"]==\"Director\"):\n",
    "            return i[\"name\"]\n",
    "    return np.nan\n",
    "\n",
    "#Function to find main 2 actors of the movie\n",
    "def get2(x):\n",
    "    if isinstance(x,list):\n",
    "        name=[i[\"name\"] for i in x]\n",
    "        if(len(name)>2):\n",
    "            name=name[:2]\n",
    "            return name\n",
    "    return []\n",
    "    \n",
    "\n",
    "movies[\"director\"]=movies[\"crew\"].apply(director)\n",
    "features=[\"cast\",\"keywords\",\"genres\"]\n",
    "for x in features:\n",
    "    movies[x]=movies[x].apply(get2)"
   ]
  },
  {
   "cell_type": "code",
   "execution_count": 11,
   "metadata": {},
   "outputs": [],
   "source": [
    "movies.rename(columns={\"original_title\":\"title\"},inplace=True)"
   ]
  },
  {
   "cell_type": "markdown",
   "metadata": {},
   "source": [
    "# CLEANING AND PREPROCESSING THE DATA"
   ]
  },
  {
   "cell_type": "code",
   "execution_count": 13,
   "metadata": {},
   "outputs": [],
   "source": [
    "#Creating a function which will convert all strings to lower case and without spaces\n",
    "def clean(r):\n",
    "    if isinstance(r, list):\n",
    "        return [str.lower(i.replace(\" \", \"\")) for i in r]\n",
    "    else:\n",
    "        if isinstance(r, str):\n",
    "            return str.lower(r.replace(\" \", \"\"))\n",
    "        else:\n",
    "            return \"\"\n",
    "\n",
    "#Applying the above created function to all the features since we'll be using these features for the recommendation\n",
    "features = ['cast', 'keywords', 'director', 'genres']\n",
    "for x in features:\n",
    "    movies[x] = movies[x].apply(clean)"
   ]
  },
  {
   "cell_type": "code",
   "execution_count": 14,
   "metadata": {},
   "outputs": [],
   "source": [
    "#Creating a metadata column \n",
    "def create_meta(features):\n",
    "    return ' '.join(features['keywords']) + ' ' + ' '.join(features['cast']) + ' ' + features['director'] + ' ' + ' '.join(features['genres'])\n",
    "\n",
    "\n",
    "movies[\"meta\"] = movies.apply(create_meta, axis=1)"
   ]
  },
  {
   "cell_type": "code",
   "execution_count": 15,
   "metadata": {},
   "outputs": [
    {
     "name": "stdout",
     "output_type": "stream",
     "text": [
      "(4803, 8469)\n",
      "(4803, 4803)\n"
     ]
    }
   ],
   "source": [
    "#This model recommends movies based on the features metadata\n",
    "#Now we convert the metadata into a vector for comparison and then use cosine similarity to find a similarity score and map the movies in descending order of similarity score\n",
    "\n",
    "vectorizer = CountVectorizer(stop_words=\"english\")\n",
    "matrix = vectorizer.fit_transform(movies[\"meta\"])\n",
    "\n",
    "cosine_sim2 = cosine_similarity(matrix,matrix) \n",
    "\n",
    "movies = movies.reset_index()\n",
    "indices = pd.Series(movies.index, index=movies['title']).drop_duplicates()"
   ]
  },
  {
   "cell_type": "markdown",
   "metadata": {},
   "source": [
    "# COLLECTION OF THE RECOMMENDATIONS AND PRINTING IT"
   ]
  },
  {
   "cell_type": "code",
   "execution_count": 17,
   "metadata": {},
   "outputs": [],
   "source": [
    "#This function takes title of movie and and the similarity function as input\n",
    "\n",
    "def get_rec(title, cosine_sim):\n",
    "    idx = indices[title]\n",
    "    similarity_scores = list(enumerate(cosine_sim[idx]))\n",
    "    similarity_scores= sorted(similarity_scores, key=lambda x: x[1], reverse=True)\n",
    "    similarity_scores= similarity_scores[1:6]\n",
    "\n",
    "    movies_indices = [ind[0] for ind in similarity_scores]\n",
    "    movierecs = movies[\"title\"].iloc[movies_indices]\n",
    "    return movierecs.tolist()\n"
   ]
  },
  {
   "cell_type": "code",
   "execution_count": 21,
   "metadata": {},
   "outputs": [
    {
     "name": "stdout",
     "output_type": "stream",
     "text": [
      "-------------------------------Contend Based Movie Recommendation System-------------------------------\n",
      "Enter 20 movie names based off which the recommendations will be given\n",
      "Enter movie name: The Dark Knight Rises\n",
      "Enter movie name: The Avengers\n",
      "Enter movie name: Spectre\n",
      "Enter movie name: Avatar\n",
      "Enter movie name: Takers\n",
      "\n",
      "\n",
      "\n",
      "\n",
      "\n",
      "\n",
      "\n",
      "\n",
      "\n",
      "\n",
      "\n",
      "\n",
      "\n",
      "\n",
      "\n",
      "\n",
      "\n",
      "\n",
      "\n",
      "\n",
      "\n",
      "\n",
      "\u001b[1mThese are movies we recommend to you-\u001b[0m\n",
      "John Carter\n",
      "The Losers\n",
      "Batman Begins\n",
      "Pirates of the Caribbean: The Curse of the Black Pearl\n",
      "The Martian\n"
     ]
    }
   ],
   "source": [
    "#Inputting the 20 movies and returning 5 recommendations\n",
    "print(\"-------------------------------Contend Based Movie Recommendation System-------------------------------\")\n",
    "print(\"Enter 20 movie names based off which the recommendations will be given\")\n",
    "\n",
    "set1=set()\n",
    "set2=set()\n",
    "\n",
    "#Input the movie names\n",
    "for i in range (20):\n",
    "    s=input(\"Enter movie name: \")\n",
    "    set1.add(s)\n",
    "\n",
    "#Save the recommendations in a set\n",
    "for i in range (5):\n",
    "    l=get_rec(i,cosine_sim2)\n",
    "    for j in l:\n",
    "        set2.add(j)\n",
    "\n",
    "#Do set2-set1 to remove the inputted movie names just incase\n",
    "setfinal=set2.difference(set1)\n",
    "\n",
    "#Now we select 5 random movies from this final set of recommendations\n",
    "finalrec=random.sample(random.sample(setfinal,10),5)\n",
    "print(\"\\n\")\n",
    "\n",
    "print(\"\\033[1mThese are movies we recommend to you-\\033[0m\")\n",
    "for i in finalrec:\n",
    "    print(i)"
   ]
  },
  {
   "cell_type": "code",
   "execution_count": null,
   "metadata": {},
   "outputs": [],
   "source": []
  }
 ],
 "metadata": {
  "kernelspec": {
   "display_name": "Python 3",
   "language": "python",
   "name": "python3"
  },
  "language_info": {
   "codemirror_mode": {
    "name": "ipython",
    "version": 3
   },
   "file_extension": ".py",
   "mimetype": "text/x-python",
   "name": "python",
   "nbconvert_exporter": "python",
   "pygments_lexer": "ipython3",
   "version": "3.8.3"
  }
 },
 "nbformat": 4,
 "nbformat_minor": 4
}
